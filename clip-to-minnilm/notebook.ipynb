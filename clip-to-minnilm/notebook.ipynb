{
 "cells": [
  {
   "cell_type": "code",
   "execution_count": 1,
   "metadata": {},
   "outputs": [],
   "source": [
    "import pandas as pd\n",
    "import os\n",
    "import torch\n",
    "from typing import Callable, Optional, Type, Union, List\n",
    "import sklearn.model_selection\n",
    "import pytorch_lightning as pl\n",
    "from pytorch_lightning.callbacks import (\n",
    "    ModelCheckpoint,\n",
    "    StochasticWeightAveraging,\n",
    "    GradientAccumulationScheduler,\n",
    "    LearningRateMonitor,\n",
    ")\n",
    "\n",
    "\n",
    "# a = pd.read_parquet('/home/toomuch/kaggle-diffusion/vectors/embeddings-__-vit-h-14-laion2B-s32B-b79K-__-MiniLM.parquet')"
   ]
  },
  {
   "cell_type": "code",
   "execution_count": 2,
   "metadata": {},
   "outputs": [],
   "source": [
    "\n",
    "class Dataset(torch.utils.data.DataLoader):\n",
    "    def __init__(self, df):\n",
    "        self.minilm_embeddings = list(df['MiniLM-emb'])\n",
    "        self.clip_embeddings = list(df['CLIP-emb'])\n",
    "\n",
    "    def __len__(self):\n",
    "        return len(self.clip_embeddings)\n",
    "    \n",
    "    def __getitem__(self, idx):\n",
    "        clip_emb = torch.tensor(self.clip_embeddings[idx], dtype=torch.float32)\n",
    "        minilm_emb = torch.tensor(self.minilm_embeddings[idx], dtype=torch.float32)\n",
    "        return clip_emb, minilm_emb\n",
    "\n",
    "\n",
    "class DataModule(pl.LightningDataModule):\n",
    "    def __init__(self, parquet_path: str, batch_size: int, test_size: float):\n",
    "        super().__init__()\n",
    "        self.parquet_path = parquet_path\n",
    "        self.batch_size = batch_size\n",
    "        self.test_size = test_size\n",
    "\n",
    "    def prepare_data(self):\n",
    "        self.df = pd.read_parquet(self.parquet_path)\n",
    "\n",
    "    def setup(self, stage: Optional[str] = None):\n",
    "        train_df, val_df = sklearn.model_selection.train_test_split(\n",
    "            self.df, test_size=self.test_size\n",
    "        )\n",
    "        self.train_dataset = Dataset(train_df)\n",
    "        self.val_dataset = Dataset(val_df)\n",
    "\n",
    "    def train_dataloader(self) -> torch.utils.data.DataLoader:\n",
    "        return torch.utils.data.DataLoader(\n",
    "            self.train_dataset,\n",
    "            batch_size=self.batch_size,\n",
    "            shuffle=True,\n",
    "            num_workers=4,\n",
    "        )\n",
    "\n",
    "    def val_dataloader(self) -> torch.utils.data.DataLoader:\n",
    "        return torch.utils.data.DataLoader(\n",
    "            self.val_dataset,\n",
    "            batch_size=self.batch_size,\n",
    "            shuffle=False,\n",
    "            num_workers=4,\n",
    "        )"
   ]
  },
  {
   "cell_type": "code",
   "execution_count": 3,
   "metadata": {},
   "outputs": [
    {
     "name": "stderr",
     "output_type": "stream",
     "text": [
      "2023-04-08 10:51:45.616985: I tensorflow/core/platform/cpu_feature_guard.cc:193] This TensorFlow binary is optimized with oneAPI Deep Neural Network Library (oneDNN) to use the following CPU instructions in performance-critical operations:  SSE4.1 SSE4.2 AVX AVX2 FMA\n",
      "To enable them in other operations, rebuild TensorFlow with the appropriate compiler flags.\n"
     ]
    }
   ],
   "source": [
    "import pytorch_lightning as pl\n",
    "import pandas as pd\n",
    "from typing import Optional\n",
    "import torch\n",
    "import numpy as np\n",
    "from pytorch_lightning.loggers import TensorBoardLogger\n",
    "from transformers import get_cosine_schedule_with_warmup\n",
    "\n",
    "\n",
    "class Model(pl.LightningModule):\n",
    "    def __init__(self, lr, warmup_ratio, total_optimization_steps):\n",
    "        super().__init__()\n",
    "        self.save_hyperparameters()\n",
    "        self.lr = lr\n",
    "        self.total_optimization_steps = total_optimization_steps\n",
    "        self.warmup_ratio = warmup_ratio\n",
    "        self.backbone = torch.nn.Sequential(\n",
    "            torch.nn.Linear(in_features=1024, out_features=384),\n",
    "        )\n",
    "        self.criterion = torch.nn.MSELoss()\n",
    "\n",
    "    def forward(self, x):\n",
    "        out = self.backbone(x)\n",
    "        return out\n",
    "\n",
    "    def training_step(self, batch, batch_idx):\n",
    "        domain_from, domain_to = batch\n",
    "        domain_to_hat = self(domain_from)\n",
    "        loss = self.criterion(domain_to_hat, domain_to)\n",
    "\n",
    "        self.log(\"train_loss\", loss, on_step=True, on_epoch=False, prog_bar=True)\n",
    "        logs = {\"train_loss\": loss.detach().cpu().numpy()}\n",
    "        return {\"loss\": loss, \"log\": logs,}\n",
    "\n",
    "    def validation_step(self, batch, batch_idx):\n",
    "        domain_from, domain_to = batch\n",
    "        domain_to_hat = self(domain_from)\n",
    "        loss = self.criterion(domain_to_hat, domain_to)\n",
    "        self.log(\"val_loss\", loss, on_step=True, on_epoch=True, prog_bar=False)\n",
    "        return {\"val_loss\": loss,}\n",
    "\n",
    "    # def validation_epoch_end(self, outputs):\n",
    "    #     avg_loss = torch.stack([x[\"val_loss\"] for x in outputs]).mean()\n",
    "    #     print(\n",
    "    #         \"\\n\\nVAL Loss: {}\\n\".format(\n",
    "    #             avg_loss,\n",
    "    #         )\n",
    "    #     )\n",
    "\n",
    "    def configure_optimizers(self):\n",
    "        optimizer = torch.optim.Adam(self.parameters(), lr=self.lr, weight_decay=0)\n",
    "        lr_scheduler = get_cosine_schedule_with_warmup(\n",
    "            optimizer,\n",
    "            num_warmup_steps=self.warmup_ratio * self.total_optimization_steps,\n",
    "            num_training_steps=self.total_optimization_steps,\n",
    "        )\n",
    "        return [optimizer], [{\"scheduler\": lr_scheduler, \"interval\": \"step\"}]\n"
   ]
  },
  {
   "cell_type": "code",
   "execution_count": 4,
   "metadata": {},
   "outputs": [
    {
     "name": "stderr",
     "output_type": "stream",
     "text": [
      "GPU available: True (cuda), used: True\n",
      "TPU available: False, using: 0 TPU cores\n",
      "IPU available: False, using: 0 IPUs\n",
      "HPU available: False, using: 0 HPUs\n",
      "You are using a CUDA device ('NVIDIA GeForce RTX 3090') that has Tensor Cores. To properly utilize them, you should set `torch.set_float32_matmul_precision('medium' | 'high')` which will trade-off precision for performance. For more details, read https://pytorch.org/docs/stable/generated/torch.set_float32_matmul_precision.html#torch.set_float32_matmul_precision\n",
      "LOCAL_RANK: 0 - CUDA_VISIBLE_DEVICES: [0,1,2]\n",
      "\n",
      "  | Name      | Type       | Params\n",
      "-----------------------------------------\n",
      "0 | backbone  | Sequential | 393 K \n",
      "1 | criterion | MSELoss    | 0     \n",
      "-----------------------------------------\n",
      "393 K     Trainable params\n",
      "0         Non-trainable params\n",
      "393 K     Total params\n",
      "1.574     Total estimated model params size (MB)\n"
     ]
    },
    {
     "data": {
      "application/vnd.jupyter.widget-view+json": {
       "model_id": "2f7aa7ff737748d0b6e3a7aa4806b5ee",
       "version_major": 2,
       "version_minor": 0
      },
      "text/plain": [
       "Sanity Checking: 0it [00:00, ?it/s]"
      ]
     },
     "metadata": {},
     "output_type": "display_data"
    },
    {
     "data": {
      "application/vnd.jupyter.widget-view+json": {
       "model_id": "b20b95a20759429c9516bdcf1cac4404",
       "version_major": 2,
       "version_minor": 0
      },
      "text/plain": [
       "Training: 0it [00:00, ?it/s]"
      ]
     },
     "metadata": {},
     "output_type": "display_data"
    },
    {
     "data": {
      "application/vnd.jupyter.widget-view+json": {
       "model_id": "c3c353c602af4ad6a326df27afa769ef",
       "version_major": 2,
       "version_minor": 0
      },
      "text/plain": [
       "Validation: 0it [00:00, ?it/s]"
      ]
     },
     "metadata": {},
     "output_type": "display_data"
    },
    {
     "name": "stderr",
     "output_type": "stream",
     "text": [
      "Epoch 0, global step 178: 'val_loss' reached 0.02225 (best 0.02225), saving model to '/home/toomuch/kaggle-diffusion/clip-to-minnilm/runs/-Debug/-Debug-epoch=00-val_loss=0.0222.ckpt' as top 2\n"
     ]
    },
    {
     "data": {
      "application/vnd.jupyter.widget-view+json": {
       "model_id": "e0c57cd0a4944ce5b4772d7fee3b3bc5",
       "version_major": 2,
       "version_minor": 0
      },
      "text/plain": [
       "Validation: 0it [00:00, ?it/s]"
      ]
     },
     "metadata": {},
     "output_type": "display_data"
    },
    {
     "name": "stderr",
     "output_type": "stream",
     "text": [
      "Epoch 1, global step 356: 'val_loss' reached 0.00783 (best 0.00783), saving model to '/home/toomuch/kaggle-diffusion/clip-to-minnilm/runs/-Debug/-Debug-epoch=01-val_loss=0.0078.ckpt' as top 2\n"
     ]
    },
    {
     "data": {
      "application/vnd.jupyter.widget-view+json": {
       "model_id": "3de38cff546c4651817e34af8ab10730",
       "version_major": 2,
       "version_minor": 0
      },
      "text/plain": [
       "Validation: 0it [00:00, ?it/s]"
      ]
     },
     "metadata": {},
     "output_type": "display_data"
    },
    {
     "name": "stderr",
     "output_type": "stream",
     "text": [
      "Epoch 2, global step 534: 'val_loss' reached 0.00399 (best 0.00399), saving model to '/home/toomuch/kaggle-diffusion/clip-to-minnilm/runs/-Debug/-Debug-epoch=02-val_loss=0.0040.ckpt' as top 2\n"
     ]
    },
    {
     "data": {
      "application/vnd.jupyter.widget-view+json": {
       "model_id": "378c16213228400992e309d7bcc1ada7",
       "version_major": 2,
       "version_minor": 0
      },
      "text/plain": [
       "Validation: 0it [00:00, ?it/s]"
      ]
     },
     "metadata": {},
     "output_type": "display_data"
    },
    {
     "name": "stderr",
     "output_type": "stream",
     "text": [
      "Epoch 3, global step 712: 'val_loss' reached 0.00255 (best 0.00255), saving model to '/home/toomuch/kaggle-diffusion/clip-to-minnilm/runs/-Debug/-Debug-epoch=03-val_loss=0.0026.ckpt' as top 2\n"
     ]
    },
    {
     "data": {
      "application/vnd.jupyter.widget-view+json": {
       "model_id": "17a8f61a0fe348d8af32afb41fad6c6f",
       "version_major": 2,
       "version_minor": 0
      },
      "text/plain": [
       "Validation: 0it [00:00, ?it/s]"
      ]
     },
     "metadata": {},
     "output_type": "display_data"
    },
    {
     "name": "stderr",
     "output_type": "stream",
     "text": [
      "Epoch 4, global step 890: 'val_loss' reached 0.00191 (best 0.00191), saving model to '/home/toomuch/kaggle-diffusion/clip-to-minnilm/runs/-Debug/-Debug-epoch=04-val_loss=0.0019.ckpt' as top 2\n"
     ]
    },
    {
     "data": {
      "application/vnd.jupyter.widget-view+json": {
       "model_id": "55c668ad92134b2cb45788b2a2062e90",
       "version_major": 2,
       "version_minor": 0
      },
      "text/plain": [
       "Validation: 0it [00:00, ?it/s]"
      ]
     },
     "metadata": {},
     "output_type": "display_data"
    },
    {
     "name": "stderr",
     "output_type": "stream",
     "text": [
      "Epoch 5, global step 1068: 'val_loss' reached 0.00160 (best 0.00160), saving model to '/home/toomuch/kaggle-diffusion/clip-to-minnilm/runs/-Debug/-Debug-epoch=05-val_loss=0.0016.ckpt' as top 2\n"
     ]
    },
    {
     "data": {
      "application/vnd.jupyter.widget-view+json": {
       "model_id": "67399f40d0334945829837ff5ea7ca04",
       "version_major": 2,
       "version_minor": 0
      },
      "text/plain": [
       "Validation: 0it [00:00, ?it/s]"
      ]
     },
     "metadata": {},
     "output_type": "display_data"
    },
    {
     "name": "stderr",
     "output_type": "stream",
     "text": [
      "Epoch 6, global step 1246: 'val_loss' reached 0.00143 (best 0.00143), saving model to '/home/toomuch/kaggle-diffusion/clip-to-minnilm/runs/-Debug/-Debug-epoch=06-val_loss=0.0014.ckpt' as top 2\n"
     ]
    },
    {
     "data": {
      "application/vnd.jupyter.widget-view+json": {
       "model_id": "28ac9a017cbb4b98ae9182095d69af16",
       "version_major": 2,
       "version_minor": 0
      },
      "text/plain": [
       "Validation: 0it [00:00, ?it/s]"
      ]
     },
     "metadata": {},
     "output_type": "display_data"
    },
    {
     "name": "stderr",
     "output_type": "stream",
     "text": [
      "Epoch 7, global step 1424: 'val_loss' reached 0.00133 (best 0.00133), saving model to '/home/toomuch/kaggle-diffusion/clip-to-minnilm/runs/-Debug/-Debug-epoch=07-val_loss=0.0013.ckpt' as top 2\n"
     ]
    },
    {
     "data": {
      "application/vnd.jupyter.widget-view+json": {
       "model_id": "42d9941d390f41728849ac2f041ceba7",
       "version_major": 2,
       "version_minor": 0
      },
      "text/plain": [
       "Validation: 0it [00:00, ?it/s]"
      ]
     },
     "metadata": {},
     "output_type": "display_data"
    },
    {
     "name": "stderr",
     "output_type": "stream",
     "text": [
      "Epoch 8, global step 1602: 'val_loss' reached 0.00127 (best 0.00127), saving model to '/home/toomuch/kaggle-diffusion/clip-to-minnilm/runs/-Debug/-Debug-epoch=08-val_loss=0.0013.ckpt' as top 2\n"
     ]
    },
    {
     "data": {
      "application/vnd.jupyter.widget-view+json": {
       "model_id": "d7a0a5fd82854218b64eba80e8671053",
       "version_major": 2,
       "version_minor": 0
      },
      "text/plain": [
       "Validation: 0it [00:00, ?it/s]"
      ]
     },
     "metadata": {},
     "output_type": "display_data"
    },
    {
     "name": "stderr",
     "output_type": "stream",
     "text": [
      "Epoch 9, global step 1780: 'val_loss' reached 0.00124 (best 0.00124), saving model to '/home/toomuch/kaggle-diffusion/clip-to-minnilm/runs/-Debug/-Debug-epoch=09-val_loss=0.0012.ckpt' as top 2\n"
     ]
    },
    {
     "data": {
      "application/vnd.jupyter.widget-view+json": {
       "model_id": "a9485ea7a28a4e008a7f91e78f5a53fa",
       "version_major": 2,
       "version_minor": 0
      },
      "text/plain": [
       "Validation: 0it [00:00, ?it/s]"
      ]
     },
     "metadata": {},
     "output_type": "display_data"
    },
    {
     "name": "stderr",
     "output_type": "stream",
     "text": [
      "Epoch 10, global step 1958: 'val_loss' reached 0.00121 (best 0.00121), saving model to '/home/toomuch/kaggle-diffusion/clip-to-minnilm/runs/-Debug/-Debug-epoch=10-val_loss=0.0012.ckpt' as top 2\n"
     ]
    },
    {
     "data": {
      "application/vnd.jupyter.widget-view+json": {
       "model_id": "3bf2535178e74f958a52a4cb03b0e053",
       "version_major": 2,
       "version_minor": 0
      },
      "text/plain": [
       "Validation: 0it [00:00, ?it/s]"
      ]
     },
     "metadata": {},
     "output_type": "display_data"
    },
    {
     "name": "stderr",
     "output_type": "stream",
     "text": [
      "Epoch 11, global step 2136: 'val_loss' reached 0.00120 (best 0.00120), saving model to '/home/toomuch/kaggle-diffusion/clip-to-minnilm/runs/-Debug/-Debug-epoch=11-val_loss=0.0012.ckpt' as top 2\n"
     ]
    },
    {
     "data": {
      "application/vnd.jupyter.widget-view+json": {
       "model_id": "92dec82a8c8246e480ded48ae6b1475d",
       "version_major": 2,
       "version_minor": 0
      },
      "text/plain": [
       "Validation: 0it [00:00, ?it/s]"
      ]
     },
     "metadata": {},
     "output_type": "display_data"
    },
    {
     "name": "stderr",
     "output_type": "stream",
     "text": [
      "Epoch 12, global step 2314: 'val_loss' reached 0.00119 (best 0.00119), saving model to '/home/toomuch/kaggle-diffusion/clip-to-minnilm/runs/-Debug/-Debug-epoch=12-val_loss=0.0012.ckpt' as top 2\n"
     ]
    },
    {
     "data": {
      "application/vnd.jupyter.widget-view+json": {
       "model_id": "a855b336c3f44bcb8c2d84d89e1c7f4c",
       "version_major": 2,
       "version_minor": 0
      },
      "text/plain": [
       "Validation: 0it [00:00, ?it/s]"
      ]
     },
     "metadata": {},
     "output_type": "display_data"
    },
    {
     "name": "stderr",
     "output_type": "stream",
     "text": [
      "Epoch 13, global step 2492: 'val_loss' reached 0.00119 (best 0.00119), saving model to '/home/toomuch/kaggle-diffusion/clip-to-minnilm/runs/-Debug/-Debug-epoch=13-val_loss=0.0012.ckpt' as top 2\n"
     ]
    },
    {
     "data": {
      "application/vnd.jupyter.widget-view+json": {
       "model_id": "03f72d7068b74a39b05e7a5a12aaf880",
       "version_major": 2,
       "version_minor": 0
      },
      "text/plain": [
       "Validation: 0it [00:00, ?it/s]"
      ]
     },
     "metadata": {},
     "output_type": "display_data"
    },
    {
     "name": "stderr",
     "output_type": "stream",
     "text": [
      "Epoch 14, global step 2670: 'val_loss' reached 0.00118 (best 0.00118), saving model to '/home/toomuch/kaggle-diffusion/clip-to-minnilm/runs/-Debug/-Debug-epoch=14-val_loss=0.0012.ckpt' as top 2\n"
     ]
    },
    {
     "data": {
      "application/vnd.jupyter.widget-view+json": {
       "model_id": "992c7ac564634456904e76d4b018796f",
       "version_major": 2,
       "version_minor": 0
      },
      "text/plain": [
       "Validation: 0it [00:00, ?it/s]"
      ]
     },
     "metadata": {},
     "output_type": "display_data"
    },
    {
     "name": "stderr",
     "output_type": "stream",
     "text": [
      "Epoch 15, global step 2848: 'val_loss' reached 0.00118 (best 0.00118), saving model to '/home/toomuch/kaggle-diffusion/clip-to-minnilm/runs/-Debug/-Debug-epoch=15-val_loss=0.0012.ckpt' as top 2\n"
     ]
    },
    {
     "data": {
      "application/vnd.jupyter.widget-view+json": {
       "model_id": "842ee2334bc843a2bfbf76128b3309e9",
       "version_major": 2,
       "version_minor": 0
      },
      "text/plain": [
       "Validation: 0it [00:00, ?it/s]"
      ]
     },
     "metadata": {},
     "output_type": "display_data"
    },
    {
     "name": "stderr",
     "output_type": "stream",
     "text": [
      "Epoch 16, global step 3026: 'val_loss' reached 0.00118 (best 0.00118), saving model to '/home/toomuch/kaggle-diffusion/clip-to-minnilm/runs/-Debug/-Debug-epoch=16-val_loss=0.0012.ckpt' as top 2\n"
     ]
    },
    {
     "data": {
      "application/vnd.jupyter.widget-view+json": {
       "model_id": "40b3e15af38a4e92b2c59608a06cbb84",
       "version_major": 2,
       "version_minor": 0
      },
      "text/plain": [
       "Validation: 0it [00:00, ?it/s]"
      ]
     },
     "metadata": {},
     "output_type": "display_data"
    },
    {
     "name": "stderr",
     "output_type": "stream",
     "text": [
      "Epoch 17, global step 3204: 'val_loss' reached 0.00118 (best 0.00118), saving model to '/home/toomuch/kaggle-diffusion/clip-to-minnilm/runs/-Debug/-Debug-epoch=17-val_loss=0.0012.ckpt' as top 2\n"
     ]
    },
    {
     "data": {
      "application/vnd.jupyter.widget-view+json": {
       "model_id": "ad8439f3265f4a4087c7473087f0ae52",
       "version_major": 2,
       "version_minor": 0
      },
      "text/plain": [
       "Validation: 0it [00:00, ?it/s]"
      ]
     },
     "metadata": {},
     "output_type": "display_data"
    },
    {
     "name": "stderr",
     "output_type": "stream",
     "text": [
      "Epoch 18, global step 3382: 'val_loss' reached 0.00118 (best 0.00118), saving model to '/home/toomuch/kaggle-diffusion/clip-to-minnilm/runs/-Debug/-Debug-epoch=18-val_loss=0.0012.ckpt' as top 2\n"
     ]
    },
    {
     "data": {
      "application/vnd.jupyter.widget-view+json": {
       "model_id": "04a21d34617c4985bd82b87b4ddf88d1",
       "version_major": 2,
       "version_minor": 0
      },
      "text/plain": [
       "Validation: 0it [00:00, ?it/s]"
      ]
     },
     "metadata": {},
     "output_type": "display_data"
    },
    {
     "name": "stderr",
     "output_type": "stream",
     "text": [
      "Epoch 19, global step 3560: 'val_loss' reached 0.00118 (best 0.00118), saving model to '/home/toomuch/kaggle-diffusion/clip-to-minnilm/runs/-Debug/-Debug-epoch=19-val_loss=0.0012.ckpt' as top 2\n"
     ]
    },
    {
     "data": {
      "application/vnd.jupyter.widget-view+json": {
       "model_id": "bb3dfdca02ff4ea8adb81397159bef98",
       "version_major": 2,
       "version_minor": 0
      },
      "text/plain": [
       "Validation: 0it [00:00, ?it/s]"
      ]
     },
     "metadata": {},
     "output_type": "display_data"
    },
    {
     "name": "stderr",
     "output_type": "stream",
     "text": [
      "Epoch 20, global step 3738: 'val_loss' reached 0.00117 (best 0.00117), saving model to '/home/toomuch/kaggle-diffusion/clip-to-minnilm/runs/-Debug/-Debug-epoch=20-val_loss=0.0012.ckpt' as top 2\n"
     ]
    },
    {
     "data": {
      "application/vnd.jupyter.widget-view+json": {
       "model_id": "96222be117b24809950e3c4042e9e6cb",
       "version_major": 2,
       "version_minor": 0
      },
      "text/plain": [
       "Validation: 0it [00:00, ?it/s]"
      ]
     },
     "metadata": {},
     "output_type": "display_data"
    },
    {
     "name": "stderr",
     "output_type": "stream",
     "text": [
      "Epoch 21, global step 3916: 'val_loss' reached 0.00116 (best 0.00116), saving model to '/home/toomuch/kaggle-diffusion/clip-to-minnilm/runs/-Debug/-Debug-epoch=21-val_loss=0.0012.ckpt' as top 2\n"
     ]
    },
    {
     "data": {
      "application/vnd.jupyter.widget-view+json": {
       "model_id": "34ed2d40a748484091581cdbfdce28ba",
       "version_major": 2,
       "version_minor": 0
      },
      "text/plain": [
       "Validation: 0it [00:00, ?it/s]"
      ]
     },
     "metadata": {},
     "output_type": "display_data"
    },
    {
     "name": "stderr",
     "output_type": "stream",
     "text": [
      "Epoch 22, global step 4094: 'val_loss' reached 0.00115 (best 0.00115), saving model to '/home/toomuch/kaggle-diffusion/clip-to-minnilm/runs/-Debug/-Debug-epoch=22-val_loss=0.0011.ckpt' as top 2\n"
     ]
    },
    {
     "data": {
      "application/vnd.jupyter.widget-view+json": {
       "model_id": "97dc4e2b13c04a3bb09db4836ad6fb10",
       "version_major": 2,
       "version_minor": 0
      },
      "text/plain": [
       "Validation: 0it [00:00, ?it/s]"
      ]
     },
     "metadata": {},
     "output_type": "display_data"
    },
    {
     "name": "stderr",
     "output_type": "stream",
     "text": [
      "Epoch 23, global step 4272: 'val_loss' reached 0.00114 (best 0.00114), saving model to '/home/toomuch/kaggle-diffusion/clip-to-minnilm/runs/-Debug/-Debug-epoch=23-val_loss=0.0011.ckpt' as top 2\n"
     ]
    },
    {
     "data": {
      "application/vnd.jupyter.widget-view+json": {
       "model_id": "6199f7dccd724145ac8be8d89787db78",
       "version_major": 2,
       "version_minor": 0
      },
      "text/plain": [
       "Validation: 0it [00:00, ?it/s]"
      ]
     },
     "metadata": {},
     "output_type": "display_data"
    },
    {
     "name": "stderr",
     "output_type": "stream",
     "text": [
      "Epoch 24, global step 4450: 'val_loss' reached 0.00113 (best 0.00113), saving model to '/home/toomuch/kaggle-diffusion/clip-to-minnilm/runs/-Debug/-Debug-epoch=24-val_loss=0.0011.ckpt' as top 2\n"
     ]
    },
    {
     "data": {
      "application/vnd.jupyter.widget-view+json": {
       "model_id": "9fe0368d41e7476d9faeb093b3f41c8c",
       "version_major": 2,
       "version_minor": 0
      },
      "text/plain": [
       "Validation: 0it [00:00, ?it/s]"
      ]
     },
     "metadata": {},
     "output_type": "display_data"
    },
    {
     "name": "stderr",
     "output_type": "stream",
     "text": [
      "Epoch 25, global step 4628: 'val_loss' reached 0.00112 (best 0.00112), saving model to '/home/toomuch/kaggle-diffusion/clip-to-minnilm/runs/-Debug/-Debug-epoch=25-val_loss=0.0011.ckpt' as top 2\n"
     ]
    },
    {
     "data": {
      "application/vnd.jupyter.widget-view+json": {
       "model_id": "9cf5cec219fb45c4acdd523f691f11dd",
       "version_major": 2,
       "version_minor": 0
      },
      "text/plain": [
       "Validation: 0it [00:00, ?it/s]"
      ]
     },
     "metadata": {},
     "output_type": "display_data"
    },
    {
     "name": "stderr",
     "output_type": "stream",
     "text": [
      "Epoch 26, global step 4806: 'val_loss' reached 0.00112 (best 0.00112), saving model to '/home/toomuch/kaggle-diffusion/clip-to-minnilm/runs/-Debug/-Debug-epoch=26-val_loss=0.0011.ckpt' as top 2\n"
     ]
    },
    {
     "data": {
      "application/vnd.jupyter.widget-view+json": {
       "model_id": "c8c59d7d70c54171aaa35b42f903b566",
       "version_major": 2,
       "version_minor": 0
      },
      "text/plain": [
       "Validation: 0it [00:00, ?it/s]"
      ]
     },
     "metadata": {},
     "output_type": "display_data"
    },
    {
     "name": "stderr",
     "output_type": "stream",
     "text": [
      "Epoch 27, global step 4984: 'val_loss' reached 0.00112 (best 0.00112), saving model to '/home/toomuch/kaggle-diffusion/clip-to-minnilm/runs/-Debug/-Debug-epoch=27-val_loss=0.0011.ckpt' as top 2\n"
     ]
    },
    {
     "data": {
      "application/vnd.jupyter.widget-view+json": {
       "model_id": "1709617016e242ccbf0793e0330fc628",
       "version_major": 2,
       "version_minor": 0
      },
      "text/plain": [
       "Validation: 0it [00:00, ?it/s]"
      ]
     },
     "metadata": {},
     "output_type": "display_data"
    },
    {
     "name": "stderr",
     "output_type": "stream",
     "text": [
      "Epoch 28, global step 5162: 'val_loss' reached 0.00112 (best 0.00112), saving model to '/home/toomuch/kaggle-diffusion/clip-to-minnilm/runs/-Debug/-Debug-epoch=28-val_loss=0.0011.ckpt' as top 2\n"
     ]
    },
    {
     "data": {
      "application/vnd.jupyter.widget-view+json": {
       "model_id": "a85431d3b5654ebf9c850fb21eaa5c51",
       "version_major": 2,
       "version_minor": 0
      },
      "text/plain": [
       "Validation: 0it [00:00, ?it/s]"
      ]
     },
     "metadata": {},
     "output_type": "display_data"
    },
    {
     "name": "stderr",
     "output_type": "stream",
     "text": [
      "Epoch 29, global step 5340: 'val_loss' reached 0.00112 (best 0.00112), saving model to '/home/toomuch/kaggle-diffusion/clip-to-minnilm/runs/-Debug/-Debug-epoch=29-val_loss=0.0011.ckpt' as top 2\n"
     ]
    },
    {
     "data": {
      "application/vnd.jupyter.widget-view+json": {
       "model_id": "86cba7f89f0f42aca50bbb877e184bd0",
       "version_major": 2,
       "version_minor": 0
      },
      "text/plain": [
       "Validation: 0it [00:00, ?it/s]"
      ]
     },
     "metadata": {},
     "output_type": "display_data"
    },
    {
     "name": "stderr",
     "output_type": "stream",
     "text": [
      "Epoch 30, global step 5518: 'val_loss' reached 0.00111 (best 0.00111), saving model to '/home/toomuch/kaggle-diffusion/clip-to-minnilm/runs/-Debug/-Debug-epoch=30-val_loss=0.0011.ckpt' as top 2\n"
     ]
    },
    {
     "data": {
      "application/vnd.jupyter.widget-view+json": {
       "model_id": "af013e0ee4744209a504a14bc1593acf",
       "version_major": 2,
       "version_minor": 0
      },
      "text/plain": [
       "Validation: 0it [00:00, ?it/s]"
      ]
     },
     "metadata": {},
     "output_type": "display_data"
    },
    {
     "name": "stderr",
     "output_type": "stream",
     "text": [
      "Epoch 31, global step 5696: 'val_loss' reached 0.00111 (best 0.00111), saving model to '/home/toomuch/kaggle-diffusion/clip-to-minnilm/runs/-Debug/-Debug-epoch=31-val_loss=0.0011.ckpt' as top 2\n"
     ]
    },
    {
     "data": {
      "application/vnd.jupyter.widget-view+json": {
       "model_id": "a588925f031f4b609b1deaa31e9f01be",
       "version_major": 2,
       "version_minor": 0
      },
      "text/plain": [
       "Validation: 0it [00:00, ?it/s]"
      ]
     },
     "metadata": {},
     "output_type": "display_data"
    },
    {
     "name": "stderr",
     "output_type": "stream",
     "text": [
      "Epoch 32, global step 5874: 'val_loss' reached 0.00111 (best 0.00111), saving model to '/home/toomuch/kaggle-diffusion/clip-to-minnilm/runs/-Debug/-Debug-epoch=32-val_loss=0.0011.ckpt' as top 2\n",
      "/home/toomuch/anaconda3/envs/translation/lib/python3.10/site-packages/pytorch_lightning/trainer/call.py:54: UserWarning: Detected KeyboardInterrupt, attempting graceful shutdown...\n",
      "  rank_zero_warn(\"Detected KeyboardInterrupt, attempting graceful shutdown...\")\n"
     ]
    }
   ],
   "source": [
    "RUN_NAME = '-Debug'\n",
    "dm = DataModule(\n",
    "    parquet_path=\"/home/toomuch/kaggle-diffusion/vectors/embeddings-__-vit-h-14-laion2B-s32B-b79K-__-MiniLM.parquet\",\n",
    "    # parquet_path=\"/home/toomuch/kaggle-diffusion/a.parquet\",\n",
    "    batch_size=8192,\n",
    "    test_size=0.2,\n",
    ")\n",
    "model = Model(\n",
    "    lr=1e-4, warmup_ratio=0.05, total_optimization_steps=3_000\n",
    ")\n",
    "logger = TensorBoardLogger(\"lightning_logs\", name=\"SDP\" + RUN_NAME)\n",
    "checkpoint_callback = ModelCheckpoint(\n",
    "    save_top_k=2,\n",
    "    monitor=\"val_loss\",\n",
    "    mode=\"min\",\n",
    "    dirpath=\"runs/{}/\".format(RUN_NAME),\n",
    "    filename=RUN_NAME + \"-{epoch:02d}-{val_loss:.4f}\",\n",
    "    save_last=False,\n",
    "    verbose=True,\n",
    "    every_n_epochs=1,\n",
    ")\n",
    "lr_monitor = LearningRateMonitor(logging_interval=\"step\")\n",
    "trainer = pl.Trainer(\n",
    "    accelerator='cuda',\n",
    "    devices=[2],\n",
    "    precision=32,\n",
    "    callbacks=[checkpoint_callback, lr_monitor],  # , swa_callback],\n",
    "    max_epochs=1000,\n",
    "    check_val_every_n_epoch=1,\n",
    "    logger=logger,\n",
    "    log_every_n_steps=1,\n",
    ")\n",
    "\n",
    "trainer.fit(model, dm)"
   ]
  },
  {
   "cell_type": "code",
   "execution_count": null,
   "metadata": {},
   "outputs": [],
   "source": []
  },
  {
   "cell_type": "code",
   "execution_count": null,
   "metadata": {},
   "outputs": [],
   "source": []
  }
 ],
 "metadata": {
  "kernelspec": {
   "display_name": "translation",
   "language": "python",
   "name": "python3"
  },
  "language_info": {
   "codemirror_mode": {
    "name": "ipython",
    "version": 3
   },
   "file_extension": ".py",
   "mimetype": "text/x-python",
   "name": "python",
   "nbconvert_exporter": "python",
   "pygments_lexer": "ipython3",
   "version": "3.10.9"
  },
  "orig_nbformat": 4
 },
 "nbformat": 4,
 "nbformat_minor": 2
}
